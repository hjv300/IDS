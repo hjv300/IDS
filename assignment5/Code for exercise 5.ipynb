{
  "nbformat": 4,
  "nbformat_minor": 0,
  "metadata": {
    "colab": {
      "provenance": [],
      "gpuType": "T4"
    },
    "kernelspec": {
      "name": "python3",
      "display_name": "Python 3"
    },
    "language_info": {
      "name": "python"
    },
    "accelerator": "GPU"
  },
  "cells": [
    {
      "cell_type": "markdown",
      "source": [
        "# IDS Assignment 5 – Computer Vision\n",
        "\n",
        "To work in this Colab notebook, first save a copy of it via \"File\" -> \"Save a copy in Drive\" in the top-left menu bar.\n"
      ],
      "metadata": {
        "id": "qL2_31R70NN0"
      }
    },
    {
      "cell_type": "markdown",
      "source": [
        "### 1. Install all missing packages that we need an download our custom FashionMNIST data\n",
        "\n",
        "The data files will be available locally in your Colab runtime. You can find them through the files menu on the left."
      ],
      "metadata": {
        "id": "tBBfHMPW0ZQ4"
      }
    },
    {
      "cell_type": "code",
      "source": [
        "# Install packages\n",
        "!pip install torchmetrics gdown\n",
        "\n",
        "# Download training, validation, and test splits\n",
        "!gdown https://drive.google.com/uc?id=1zYfBlExr_LK-Ld8rmxCTqRU5RAOUVVfh\n",
        "!gdown https://drive.google.com/uc?id=1PJa_I3qG0P5whuARV_Se1_YUvHzR469R\n",
        "!gdown https://drive.google.com/uc?id=1pC8-ummMGy1dPhHGPuNsms5_I7HpWgv2"
      ],
      "metadata": {
        "id": "OxY0aSy-6hGc",
        "outputId": "ff09ae80-a49e-4be7-ec76-a91358bd493f",
        "colab": {
          "base_uri": "https://localhost:8080/"
        }
      },
      "execution_count": 2,
      "outputs": [
        {
          "output_type": "stream",
          "name": "stdout",
          "text": [
            "Collecting torchmetrics\n",
            "  Downloading torchmetrics-1.3.2-py3-none-any.whl (841 kB)\n",
            "\u001b[2K     \u001b[90m━━━━━━━━━━━━━━━━━━━━━━━━━━━━━━━━━━━━━━━━\u001b[0m \u001b[32m841.5/841.5 kB\u001b[0m \u001b[31m6.8 MB/s\u001b[0m eta \u001b[36m0:00:00\u001b[0m\n",
            "\u001b[?25hRequirement already satisfied: gdown in /usr/local/lib/python3.10/dist-packages (4.7.3)\n",
            "Requirement already satisfied: numpy>1.20.0 in /usr/local/lib/python3.10/dist-packages (from torchmetrics) (1.25.2)\n",
            "Requirement already satisfied: packaging>17.1 in /usr/local/lib/python3.10/dist-packages (from torchmetrics) (24.0)\n",
            "Requirement already satisfied: torch>=1.10.0 in /usr/local/lib/python3.10/dist-packages (from torchmetrics) (2.2.1+cu121)\n",
            "Collecting lightning-utilities>=0.8.0 (from torchmetrics)\n",
            "  Downloading lightning_utilities-0.11.2-py3-none-any.whl (26 kB)\n",
            "Requirement already satisfied: filelock in /usr/local/lib/python3.10/dist-packages (from gdown) (3.13.3)\n",
            "Requirement already satisfied: requests[socks] in /usr/local/lib/python3.10/dist-packages (from gdown) (2.31.0)\n",
            "Requirement already satisfied: six in /usr/local/lib/python3.10/dist-packages (from gdown) (1.16.0)\n",
            "Requirement already satisfied: tqdm in /usr/local/lib/python3.10/dist-packages (from gdown) (4.66.2)\n",
            "Requirement already satisfied: beautifulsoup4 in /usr/local/lib/python3.10/dist-packages (from gdown) (4.12.3)\n",
            "Requirement already satisfied: setuptools in /usr/local/lib/python3.10/dist-packages (from lightning-utilities>=0.8.0->torchmetrics) (67.7.2)\n",
            "Requirement already satisfied: typing-extensions in /usr/local/lib/python3.10/dist-packages (from lightning-utilities>=0.8.0->torchmetrics) (4.10.0)\n",
            "Requirement already satisfied: sympy in /usr/local/lib/python3.10/dist-packages (from torch>=1.10.0->torchmetrics) (1.12)\n",
            "Requirement already satisfied: networkx in /usr/local/lib/python3.10/dist-packages (from torch>=1.10.0->torchmetrics) (3.2.1)\n",
            "Requirement already satisfied: jinja2 in /usr/local/lib/python3.10/dist-packages (from torch>=1.10.0->torchmetrics) (3.1.3)\n",
            "Requirement already satisfied: fsspec in /usr/local/lib/python3.10/dist-packages (from torch>=1.10.0->torchmetrics) (2023.6.0)\n",
            "Collecting nvidia-cuda-nvrtc-cu12==12.1.105 (from torch>=1.10.0->torchmetrics)\n",
            "  Downloading nvidia_cuda_nvrtc_cu12-12.1.105-py3-none-manylinux1_x86_64.whl (23.7 MB)\n",
            "\u001b[2K     \u001b[90m━━━━━━━━━━━━━━━━━━━━━━━━━━━━━━━━━━━━━━━━\u001b[0m \u001b[32m23.7/23.7 MB\u001b[0m \u001b[31m21.5 MB/s\u001b[0m eta \u001b[36m0:00:00\u001b[0m\n",
            "\u001b[?25hCollecting nvidia-cuda-runtime-cu12==12.1.105 (from torch>=1.10.0->torchmetrics)\n",
            "  Downloading nvidia_cuda_runtime_cu12-12.1.105-py3-none-manylinux1_x86_64.whl (823 kB)\n",
            "\u001b[2K     \u001b[90m━━━━━━━━━━━━━━━━━━━━━━━━━━━━━━━━━━━━━━━━\u001b[0m \u001b[32m823.6/823.6 kB\u001b[0m \u001b[31m43.4 MB/s\u001b[0m eta \u001b[36m0:00:00\u001b[0m\n",
            "\u001b[?25hCollecting nvidia-cuda-cupti-cu12==12.1.105 (from torch>=1.10.0->torchmetrics)\n",
            "  Downloading nvidia_cuda_cupti_cu12-12.1.105-py3-none-manylinux1_x86_64.whl (14.1 MB)\n",
            "\u001b[2K     \u001b[90m━━━━━━━━━━━━━━━━━━━━━━━━━━━━━━━━━━━━━━━━\u001b[0m \u001b[32m14.1/14.1 MB\u001b[0m \u001b[31m23.3 MB/s\u001b[0m eta \u001b[36m0:00:00\u001b[0m\n",
            "\u001b[?25hCollecting nvidia-cudnn-cu12==8.9.2.26 (from torch>=1.10.0->torchmetrics)\n",
            "  Downloading nvidia_cudnn_cu12-8.9.2.26-py3-none-manylinux1_x86_64.whl (731.7 MB)\n",
            "\u001b[2K     \u001b[90m━━━━━━━━━━━━━━━━━━━━━━━━━━━━━━━━━━━━━━━━\u001b[0m \u001b[32m731.7/731.7 MB\u001b[0m \u001b[31m2.2 MB/s\u001b[0m eta \u001b[36m0:00:00\u001b[0m\n",
            "\u001b[?25hCollecting nvidia-cublas-cu12==12.1.3.1 (from torch>=1.10.0->torchmetrics)\n",
            "  Downloading nvidia_cublas_cu12-12.1.3.1-py3-none-manylinux1_x86_64.whl (410.6 MB)\n",
            "\u001b[2K     \u001b[90m━━━━━━━━━━━━━━━━━━━━━━━━━━━━━━━━━━━━━━━━\u001b[0m \u001b[32m410.6/410.6 MB\u001b[0m \u001b[31m1.4 MB/s\u001b[0m eta \u001b[36m0:00:00\u001b[0m\n",
            "\u001b[?25hCollecting nvidia-cufft-cu12==11.0.2.54 (from torch>=1.10.0->torchmetrics)\n",
            "  Downloading nvidia_cufft_cu12-11.0.2.54-py3-none-manylinux1_x86_64.whl (121.6 MB)\n",
            "\u001b[2K     \u001b[90m━━━━━━━━━━━━━━━━━━━━━━━━━━━━━━━━━━━━━━━━\u001b[0m \u001b[32m121.6/121.6 MB\u001b[0m \u001b[31m9.1 MB/s\u001b[0m eta \u001b[36m0:00:00\u001b[0m\n",
            "\u001b[?25hCollecting nvidia-curand-cu12==10.3.2.106 (from torch>=1.10.0->torchmetrics)\n",
            "  Downloading nvidia_curand_cu12-10.3.2.106-py3-none-manylinux1_x86_64.whl (56.5 MB)\n",
            "\u001b[2K     \u001b[90m━━━━━━━━━━━━━━━━━━━━━━━━━━━━━━━━━━━━━━━━\u001b[0m \u001b[32m56.5/56.5 MB\u001b[0m \u001b[31m10.6 MB/s\u001b[0m eta \u001b[36m0:00:00\u001b[0m\n",
            "\u001b[?25hCollecting nvidia-cusolver-cu12==11.4.5.107 (from torch>=1.10.0->torchmetrics)\n",
            "  Downloading nvidia_cusolver_cu12-11.4.5.107-py3-none-manylinux1_x86_64.whl (124.2 MB)\n",
            "\u001b[2K     \u001b[90m━━━━━━━━━━━━━━━━━━━━━━━━━━━━━━━━━━━━━━━━\u001b[0m \u001b[32m124.2/124.2 MB\u001b[0m \u001b[31m8.3 MB/s\u001b[0m eta \u001b[36m0:00:00\u001b[0m\n",
            "\u001b[?25hCollecting nvidia-cusparse-cu12==12.1.0.106 (from torch>=1.10.0->torchmetrics)\n",
            "  Downloading nvidia_cusparse_cu12-12.1.0.106-py3-none-manylinux1_x86_64.whl (196.0 MB)\n",
            "\u001b[2K     \u001b[90m━━━━━━━━━━━━━━━━━━━━━━━━━━━━━━━━━━━━━━━━\u001b[0m \u001b[32m196.0/196.0 MB\u001b[0m \u001b[31m3.0 MB/s\u001b[0m eta \u001b[36m0:00:00\u001b[0m\n",
            "\u001b[?25hCollecting nvidia-nccl-cu12==2.19.3 (from torch>=1.10.0->torchmetrics)\n",
            "  Downloading nvidia_nccl_cu12-2.19.3-py3-none-manylinux1_x86_64.whl (166.0 MB)\n",
            "\u001b[2K     \u001b[90m━━━━━━━━━━━━━━━━━━━━━━━━━━━━━━━━━━━━━━━━\u001b[0m \u001b[32m166.0/166.0 MB\u001b[0m \u001b[31m2.6 MB/s\u001b[0m eta \u001b[36m0:00:00\u001b[0m\n",
            "\u001b[?25hCollecting nvidia-nvtx-cu12==12.1.105 (from torch>=1.10.0->torchmetrics)\n",
            "  Downloading nvidia_nvtx_cu12-12.1.105-py3-none-manylinux1_x86_64.whl (99 kB)\n",
            "\u001b[2K     \u001b[90m━━━━━━━━━━━━━━━━━━━━━━━━━━━━━━━━━━━━━━━━\u001b[0m \u001b[32m99.1/99.1 kB\u001b[0m \u001b[31m12.5 MB/s\u001b[0m eta \u001b[36m0:00:00\u001b[0m\n",
            "\u001b[?25hRequirement already satisfied: triton==2.2.0 in /usr/local/lib/python3.10/dist-packages (from torch>=1.10.0->torchmetrics) (2.2.0)\n",
            "Collecting nvidia-nvjitlink-cu12 (from nvidia-cusolver-cu12==11.4.5.107->torch>=1.10.0->torchmetrics)\n",
            "  Downloading nvidia_nvjitlink_cu12-12.4.127-py3-none-manylinux2014_x86_64.whl (21.1 MB)\n",
            "\u001b[2K     \u001b[90m━━━━━━━━━━━━━━━━━━━━━━━━━━━━━━━━━━━━━━━━\u001b[0m \u001b[32m21.1/21.1 MB\u001b[0m \u001b[31m36.9 MB/s\u001b[0m eta \u001b[36m0:00:00\u001b[0m\n",
            "\u001b[?25hRequirement already satisfied: soupsieve>1.2 in /usr/local/lib/python3.10/dist-packages (from beautifulsoup4->gdown) (2.5)\n",
            "Requirement already satisfied: charset-normalizer<4,>=2 in /usr/local/lib/python3.10/dist-packages (from requests[socks]->gdown) (3.3.2)\n",
            "Requirement already satisfied: idna<4,>=2.5 in /usr/local/lib/python3.10/dist-packages (from requests[socks]->gdown) (3.6)\n",
            "Requirement already satisfied: urllib3<3,>=1.21.1 in /usr/local/lib/python3.10/dist-packages (from requests[socks]->gdown) (2.0.7)\n",
            "Requirement already satisfied: certifi>=2017.4.17 in /usr/local/lib/python3.10/dist-packages (from requests[socks]->gdown) (2024.2.2)\n",
            "Requirement already satisfied: PySocks!=1.5.7,>=1.5.6 in /usr/local/lib/python3.10/dist-packages (from requests[socks]->gdown) (1.7.1)\n",
            "Requirement already satisfied: MarkupSafe>=2.0 in /usr/local/lib/python3.10/dist-packages (from jinja2->torch>=1.10.0->torchmetrics) (2.1.5)\n",
            "Requirement already satisfied: mpmath>=0.19 in /usr/local/lib/python3.10/dist-packages (from sympy->torch>=1.10.0->torchmetrics) (1.3.0)\n",
            "Installing collected packages: nvidia-nvtx-cu12, nvidia-nvjitlink-cu12, nvidia-nccl-cu12, nvidia-curand-cu12, nvidia-cufft-cu12, nvidia-cuda-runtime-cu12, nvidia-cuda-nvrtc-cu12, nvidia-cuda-cupti-cu12, nvidia-cublas-cu12, lightning-utilities, nvidia-cusparse-cu12, nvidia-cudnn-cu12, nvidia-cusolver-cu12, torchmetrics\n",
            "Successfully installed lightning-utilities-0.11.2 nvidia-cublas-cu12-12.1.3.1 nvidia-cuda-cupti-cu12-12.1.105 nvidia-cuda-nvrtc-cu12-12.1.105 nvidia-cuda-runtime-cu12-12.1.105 nvidia-cudnn-cu12-8.9.2.26 nvidia-cufft-cu12-11.0.2.54 nvidia-curand-cu12-10.3.2.106 nvidia-cusolver-cu12-11.4.5.107 nvidia-cusparse-cu12-12.1.0.106 nvidia-nccl-cu12-2.19.3 nvidia-nvjitlink-cu12-12.4.127 nvidia-nvtx-cu12-12.1.105 torchmetrics-1.3.2\n",
            "Downloading...\n",
            "From: https://drive.google.com/uc?id=1zYfBlExr_LK-Ld8rmxCTqRU5RAOUVVfh\n",
            "To: /content/fashion_mnist_training.pt\n",
            "100% 3.93M/3.93M [00:00<00:00, 243MB/s]\n",
            "Downloading...\n",
            "From: https://drive.google.com/uc?id=1PJa_I3qG0P5whuARV_Se1_YUvHzR469R\n",
            "To: /content/fashion_mnist_validation.pt\n",
            "100% 786k/786k [00:00<00:00, 134MB/s]\n",
            "Downloading...\n",
            "From: https://drive.google.com/uc?id=1pC8-ummMGy1dPhHGPuNsms5_I7HpWgv2\n",
            "To: /content/fashion_mnist_test.pt\n",
            "100% 786k/786k [00:00<00:00, 129MB/s]\n"
          ]
        }
      ]
    },
    {
      "cell_type": "markdown",
      "source": [
        "### 2. Import classes and functions we will be using"
      ],
      "metadata": {
        "id": "Ec72Ga6812RP"
      }
    },
    {
      "cell_type": "code",
      "execution_count": 3,
      "metadata": {
        "id": "T9VpHD-DgtpQ"
      },
      "outputs": [],
      "source": [
        "import math\n",
        "import os\n",
        "import random\n",
        "from typing import Any, Callable, Optional, Tuple\n",
        "\n",
        "import numpy as np\n",
        "import matplotlib.pyplot as plt\n",
        "import seaborn as sns\n",
        "import pandas as pd\n",
        "from PIL import Image\n",
        "from tqdm import tqdm\n",
        "\n",
        "import torch\n",
        "from torch import nn\n",
        "import torch.nn.functional as F\n",
        "from torch.optim import SGD\n",
        "from torch.optim.lr_scheduler import LinearLR\n",
        "from torch.utils.data import DataLoader\n",
        "from torchvision.datasets import VisionDataset\n",
        "from torchvision.transforms import Compose, Lambda, ToTensor\n",
        "from torchvision.models.resnet import ResNet, BasicBlock\n",
        "from torchmetrics.functional.classification import multiclass_confusion_matrix"
      ]
    },
    {
      "cell_type": "markdown",
      "source": [
        "### 3. Check which PyTorch version we are running and confirm that we are in a GPU runtime.\n",
        "If this output shows that you are not in a GPU runtime, go to \"Runtime\" in the top-left menu bar -> \"Change runtime type\" -> set \"Hardware Accelerator: GPU\"."
      ],
      "metadata": {
        "id": "f5X2STV32RqW"
      }
    },
    {
      "cell_type": "code",
      "source": [
        "print(f\"Running PyTorch version: {torch.__version__}\")\n",
        "print(f\"CUDA available: {torch.cuda.is_available()}\")\n",
        "!nvidia-smi"
      ],
      "metadata": {
        "id": "mPccgagdC5hU",
        "outputId": "d661bfbc-45e9-452a-dea4-f8ca42655698",
        "colab": {
          "base_uri": "https://localhost:8080/"
        }
      },
      "execution_count": 4,
      "outputs": [
        {
          "output_type": "stream",
          "name": "stdout",
          "text": [
            "Running PyTorch version: 2.2.1+cu121\n",
            "CUDA available: True\n",
            "Tue Apr  9 10:39:53 2024       \n",
            "+---------------------------------------------------------------------------------------+\n",
            "| NVIDIA-SMI 535.104.05             Driver Version: 535.104.05   CUDA Version: 12.2     |\n",
            "|-----------------------------------------+----------------------+----------------------+\n",
            "| GPU  Name                 Persistence-M | Bus-Id        Disp.A | Volatile Uncorr. ECC |\n",
            "| Fan  Temp   Perf          Pwr:Usage/Cap |         Memory-Usage | GPU-Util  Compute M. |\n",
            "|                                         |                      |               MIG M. |\n",
            "|=========================================+======================+======================|\n",
            "|   0  Tesla T4                       Off | 00000000:00:04.0 Off |                    0 |\n",
            "| N/A   44C    P8              10W /  70W |      3MiB / 15360MiB |      0%      Default |\n",
            "|                                         |                      |                  N/A |\n",
            "+-----------------------------------------+----------------------+----------------------+\n",
            "                                                                                         \n",
            "+---------------------------------------------------------------------------------------+\n",
            "| Processes:                                                                            |\n",
            "|  GPU   GI   CI        PID   Type   Process name                            GPU Memory |\n",
            "|        ID   ID                                                             Usage      |\n",
            "|=======================================================================================|\n",
            "|  No running processes found                                                           |\n",
            "+---------------------------------------------------------------------------------------+\n"
          ]
        }
      ]
    },
    {
      "cell_type": "markdown",
      "source": [
        "### 4. Make things (more) reproducible by setting random seeds\n",
        "\n",
        "See here for details: https://pytorch.org/docs/stable/notes/randomness.html"
      ],
      "metadata": {
        "id": "48pQqaEu2rl_"
      }
    },
    {
      "cell_type": "code",
      "source": [
        "seed = 42\n",
        "random.seed(seed)\n",
        "np.random.seed(seed)\n",
        "torch.manual_seed(seed)\n",
        "torch.cuda.manual_seed_all(seed)"
      ],
      "metadata": {
        "id": "nl_WgwsJykDK"
      },
      "execution_count": 5,
      "outputs": []
    },
    {
      "cell_type": "markdown",
      "source": [
        "### 5. Define our custom IDS FashionMNIST PyTorch dataset\n",
        "\n",
        "Our model inherits, i.e. is a specific kind of, `VisionDataset` in torchvision.\\\n",
        "This means it has all features defined in `VisionDataset`, unless they are explicitly overridden here, \\\n",
        "plus any additional functionality that may be defined below. You can read more about `VisionDataset` here: https://pytorch.org/vision/main/generated/torchvision.datasets.VisionDataset.html."
      ],
      "metadata": {
        "id": "d9FscidJ266u"
      }
    },
    {
      "cell_type": "code",
      "source": [
        "class IDSFashionMnistDataset(VisionDataset):\n",
        "    \"\"\"\n",
        "    FashionMNIST dataset for the IDS course which loads custom data files from disk\n",
        "    \"\"\"\n",
        "\n",
        "    classes = [\n",
        "        \"T-shirt/top\", \"Trouser\", \"Pullover\", \"Dress\", \"Coat\",\n",
        "        \"Sandal\", \"Shirt\", \"Sneaker\", \"Bag\", \"Ankle boot\"\n",
        "    ]\n",
        "\n",
        "    def __init__(\n",
        "        self,\n",
        "        root: str,\n",
        "        split: str = \"training\",\n",
        "        transform: Optional[Callable] = None,\n",
        "        target_transform: Optional[Callable] = None,\n",
        "    ) -> None:\n",
        "        super().__init__(root, transform=transform, target_transform=target_transform)\n",
        "\n",
        "        if not split in [\"training\", \"validation\", \"test\"]:\n",
        "            raise ValueError(\"Split should be 'training', 'validation', or 'test'.\")\n",
        "\n",
        "        self.split = split\n",
        "        self.root = root\n",
        "\n",
        "        self.data, self.targets = self._load_data()\n",
        "\n",
        "    def _load_data(self):\n",
        "        data = torch.load(os.path.join(self.root, f\"fashion_mnist_{self.split}.pt\"))\n",
        "        images = data[:, :-1].reshape(-1, 28, 28)  # 28x28 resolution\n",
        "        labels = data[:, -1]\n",
        "        return images, labels\n",
        "\n",
        "    def __getitem__(self, index: int) -> Tuple[Any, Any]:\n",
        "        \"\"\"\n",
        "        Args:\n",
        "            index (int): Index\n",
        "\n",
        "        Returns:\n",
        "            tuple: (image, target) where target is index of the target class.\n",
        "        \"\"\"\n",
        "        img, target = self.data[index], int(self.targets[index])\n",
        "\n",
        "        # doing this so that it is consistent with all other datasets\n",
        "        # to return a PIL Image\n",
        "        img = Image.fromarray(img.numpy(), mode=\"L\")\n",
        "\n",
        "        if self.transform is not None:\n",
        "            img = self.transform(img)\n",
        "\n",
        "        if self.target_transform is not None:\n",
        "            target = self.target_transform(target)\n",
        "\n",
        "        return img, target\n",
        "\n",
        "    def __len__(self):\n",
        "        return len(self.data)"
      ],
      "metadata": {
        "id": "rQRFvmlVrXyb"
      },
      "execution_count": 6,
      "outputs": []
    },
    {
      "cell_type": "markdown",
      "source": [
        "### 6. Define our custom ResNet-18 model for FashionMNIST\n",
        "The original ResNet-18 uses 3-channel (RGB) inputs and has 1000 output classes based on ImageNet-1K.\n",
        "\n",
        "https://pytorch.org/vision/main/models/generated/torchvision.models.resnet18.html\n",
        "\n",
        "We instead use single-channel inputs (Grayscale) and 10 output classes according to FashionMNIST."
      ],
      "metadata": {
        "id": "bYZm4f-G3bJb"
      }
    },
    {
      "cell_type": "code",
      "source": [
        "class FashionMnistResNet18(ResNet):\n",
        "    \"\"\"\n",
        "    Custom ResNet-18 model which uses 1 input channel (grayscale) and has 10 output classes\n",
        "    \"\"\"\n",
        "    def __init__(self):\n",
        "        super().__init__(BasicBlock, [2,2,2,2,2], num_classes=10)\n",
        "        self.conv1 = nn.Conv2d(1, 64,\n",
        "          kernel_size=(7, 7),\n",
        "          stride=(2, 2),\n",
        "          padding=(3, 3),\n",
        "          bias=False\n",
        "        )"
      ],
      "metadata": {
        "id": "dOKZ40RW31jy"
      },
      "execution_count": 7,
      "outputs": []
    },
    {
      "cell_type": "markdown",
      "source": [
        "### 7. Load our custom FashionMNIST data\n",
        "\n",
        "Here, we load our data using the `IDSFashionMnistDataset` class defined above. We also make use of the functionality in torchvision's `VisionDataset`, which `IDSFashionMnistDataset` inherits from, to set the transformations we want to apply when retrieving examples from our dataset. We use the `transform` keyword argument for this and compose our transformations using torchvision's `Compose` (https://pytorch.org/vision/main/generated/torchvision.transforms.Compose.html). In our base setting, the only transformation we apply is `ToTensor`, which converts our `PIL.Image` inputs into PyTorch tensors."
      ],
      "metadata": {
        "id": "JtzPBiiq4RnD"
      }
    },
    {
      "cell_type": "code",
      "source": [
        "# Create base transformation for our dataset\n",
        "# TODO: how can these be modified to randomly flip examples?\n",
        "base_transform = Compose([\n",
        "    ToTensor(),\n",
        "])\n",
        "\n",
        "# Load datasets\n",
        "train_dataset = IDSFashionMnistDataset(\".\", \"training\", transform=base_transform)\n",
        "validation_dataset = IDSFashionMnistDataset(\".\", \"validation\", transform=base_transform)\n",
        "test_dataset = IDSFashionMnistDataset(\".\", \"test\", transform=base_transform)\n",
        "\n",
        "# Check the sizes of our datasets\n",
        "print(f\"Training dataset length = {len(train_dataset)}\")\n",
        "print(f\"Validation dataset length = {len(validation_dataset)}\")\n",
        "print(f\"Test dataset length = {len(test_dataset)}\")"
      ],
      "metadata": {
        "id": "fLWIwbs1lKtT",
        "outputId": "28b7b84b-3ac2-49e3-cbaf-6806d3bf94ca",
        "colab": {
          "base_uri": "https://localhost:8080/"
        }
      },
      "execution_count": 8,
      "outputs": [
        {
          "output_type": "stream",
          "name": "stdout",
          "text": [
            "Training dataset length = 5000\n",
            "Validation dataset length = 1000\n",
            "Test dataset length = 1000\n"
          ]
        }
      ]
    },
    {
      "cell_type": "markdown",
      "source": [
        "### 8. Implement our evaluation function and training loop\n",
        "\n",
        "Below, we provide some rudimentary functionality for training and evaluation,\\\n",
        "as well as metric storing and logging, for our experiments."
      ],
      "metadata": {
        "id": "HeQRTMvk5i52"
      }
    },
    {
      "cell_type": "code",
      "source": [
        "def log_metrics(metrics: dict, step: Optional[int] = None):\n",
        "    \"\"\"\n",
        "    Log metrics stored in a dictionary\n",
        "    \"\"\"\n",
        "\n",
        "    # During training, it can be useful to also log the current step\n",
        "    if step is not None:\n",
        "        print(f\"\\nMetrics step {step}:\")\n",
        "\n",
        "    for k, v in metrics.items():\n",
        "        # We ignore the confusion matrix when logging metrics\n",
        "        if not k.endswith(\"conf_matrix\"):\n",
        "            print(f\"  {k}: {v}\")\n",
        "\n",
        "def evaluate(model, eval_dataloader, prefix=\"eval\"):\n",
        "    \"\"\"\n",
        "    Evaluation function that computes the loss, accuracy, and confusion matrix for the dataset\n",
        "    passed via the `eval_dataloader` argument\n",
        "    \"\"\"\n",
        "\n",
        "    # Define loss function\n",
        "    criterion = nn.CrossEntropyLoss()\n",
        "\n",
        "    # Move model to GPU\n",
        "    model.cuda()\n",
        "\n",
        "    # Set model to evaluation mode (e.g. to disable dropout)\n",
        "    model.eval()\n",
        "\n",
        "    eval_loss = 0\n",
        "    y_pred = None\n",
        "    y_true = None\n",
        "    num_classes = None\n",
        "\n",
        "    for batch_idx, batch in enumerate(tqdm(eval_dataloader, desc=f\"Evaluating\")):\n",
        "        # Loop over batches in dataloader\n",
        "\n",
        "        # Move batch to GPU\n",
        "        inputs, labels = batch\n",
        "        inputs = inputs.cuda()\n",
        "        labels = labels.cuda()\n",
        "\n",
        "        # Use no_grad mode to disable gradient computation\n",
        "        with torch.no_grad():\n",
        "            # Get model outputs\n",
        "            outputs = model(inputs)\n",
        "\n",
        "        # Compute loss\n",
        "        loss = criterion(outputs, labels)\n",
        "        eval_loss += loss.detach().cpu().item()\n",
        "\n",
        "        if num_classes is None:\n",
        "            num_classes = len(outputs[0])\n",
        "\n",
        "        # Get class predictions\n",
        "        preds = torch.argmax(outputs, dim=-1)\n",
        "\n",
        "        # Accumulate predictions and true classes over batches\n",
        "        y_pred = torch.cat([y_pred, preds]) if y_pred is not None else preds\n",
        "        y_true = torch.cat([y_true, labels]) if y_true is not None else labels\n",
        "\n",
        "\n",
        "    # Move predictions and true classes back to CPU\n",
        "    y_pred = y_pred.detach().cpu()\n",
        "    y_true = y_true.detach().cpu()\n",
        "\n",
        "    # Compute metrics\n",
        "    eval_loss /= len(eval_dataloader)\n",
        "    eval_acc = (y_pred == y_true).sum() / len(y_true)\n",
        "    eval_conf_matrix = multiclass_confusion_matrix(\n",
        "        y_pred, y_true, num_classes=num_classes\n",
        "    )\n",
        "\n",
        "    # Store metrics in a dictionary\n",
        "    metrics = {\n",
        "        f\"{prefix}_loss\": eval_loss,\n",
        "        f\"{prefix}_accuracy\": eval_acc.item(),\n",
        "        f\"{prefix}_conf_matrix\": eval_conf_matrix.numpy()\n",
        "    }\n",
        "\n",
        "    return metrics\n",
        "\n",
        "\n",
        "def save_best_model(model: nn.Module):\n",
        "  \"\"\"\n",
        "  Simple function that saves the weights of the specified model to disk.\n",
        "  We use this to keep track of the best model (based on validation loss).\n",
        "  \"\"\"\n",
        "  output_path = \"best_model.pt\"\n",
        "  torch.save(model.state_dict(), output_path)\n",
        "  print(f\"Saved new best model to {output_path}\\n\")\n",
        "\n",
        "\n",
        "def load_best_model(model: nn.Module, model_path: str = \"best_model.pt\"):\n",
        "  \"\"\"\n",
        "  Simple function that loads model weights stored at `model_path` into the\n",
        "  passed model of type `nn.Module`. We use this to load our best model checkpoint.\n",
        "  \"\"\"\n",
        "  model.load_state_dict(torch.load(model_path))\n",
        "  model.eval()\n",
        "  print(f\"Loaded best {model.__class__.__name__} model from {model_path}\\n\")\n",
        "  return model\n",
        "\n",
        "\n",
        "def train(\n",
        "  model: nn.Module,\n",
        "  train_dataloader: DataLoader,\n",
        "  eval_dataloader: DataLoader,\n",
        "  num_epochs: int = 20,\n",
        "  lr: float = 0.1,\n",
        "  eval_steps: int = 100\n",
        "):\n",
        "    \"\"\"\n",
        "    Training loop\n",
        "    \"\"\"\n",
        "\n",
        "    # Create SGD optimizer with specified learning rate and fixed momentum\n",
        "    optimizer = SGD(model.parameters(), lr=lr, momentum=0.9)\n",
        "\n",
        "    # Create linear learning rate decay schedule\n",
        "    scheduler = LinearLR(\n",
        "        optimizer,\n",
        "        start_factor=1.0,\n",
        "        end_factor=1e-6,\n",
        "        total_iters=len(train_dataloader) * num_epochs\n",
        "    )\n",
        "\n",
        "    # Define loss function\n",
        "    criterion = nn.CrossEntropyLoss()\n",
        "\n",
        "    # Move model to GPU\n",
        "    model.cuda()\n",
        "\n",
        "    total_loss = 0\n",
        "    total_eval_loss = 0\n",
        "    global_step = 0\n",
        "    global_eval_step = 0\n",
        "    best_eval_loss = float(\"inf\")\n",
        "\n",
        "    # Store our initial model\n",
        "    save_best_model(model)\n",
        "\n",
        "    # Create dictionary to store metrics throughout training\n",
        "    metrics_dict = {}\n",
        "\n",
        "    print(\"Starting model training\")\n",
        "\n",
        "    for epoch_idx in range(num_epochs):\n",
        "        # Epoch loop (one epoch is one pass over the full training dataset)\n",
        "\n",
        "        for batch_idx, batch in enumerate(tqdm(train_dataloader, desc=f\"Epoch {epoch_idx+1}\")):\n",
        "            # Loop over batches in training dataset\n",
        "\n",
        "            # Set model to training mode\n",
        "            model.train()\n",
        "\n",
        "            global_step += 1\n",
        "\n",
        "            # Move batch to GPU\n",
        "            inputs, labels = batch\n",
        "            inputs = inputs.cuda()\n",
        "            labels = labels.cuda()\n",
        "\n",
        "            # Get model outputs\n",
        "            outputs = model(inputs)\n",
        "\n",
        "            # Compute loss\n",
        "            loss = criterion(outputs, labels)\n",
        "            total_loss += loss.detach().cpu().item()\n",
        "\n",
        "            # Evaluation loop\n",
        "            if global_step % eval_steps == 0:\n",
        "                global_eval_step += 1\n",
        "                metrics = {\n",
        "                    \"mean_train_loss\": total_loss / global_step,\n",
        "                    \"learning_rate\": scheduler.get_last_lr()[0]\n",
        "                }\n",
        "\n",
        "                # Evaluate on validation and training datasets\n",
        "                metrics.update(evaluate(model, eval_dataloader, prefix=\"eval\"))\n",
        "                metrics.update(evaluate(model, train_dataloader, prefix=\"train\"))\n",
        "\n",
        "                # Update and log metrics\n",
        "                total_eval_loss += metrics[\"eval_loss\"]\n",
        "                metrics[\"mean_eval_loss\"] = total_eval_loss / global_eval_step\n",
        "                log_metrics(metrics, step=global_step)\n",
        "                metrics_dict[global_step] = metrics\n",
        "\n",
        "                # Check if our validation loss has decreased, and if so,\n",
        "                # update our best model checkpoint\n",
        "                if metrics[\"eval_loss\"] <= best_eval_loss:\n",
        "                  best_eval_loss = metrics[\"eval_loss\"]\n",
        "                  save_best_model(model)\n",
        "\n",
        "            # Compute gradients\n",
        "            loss.backward()\n",
        "\n",
        "            # Perform update step\n",
        "            optimizer.step()\n",
        "\n",
        "            # Reduce learning rate for stability\n",
        "            scheduler.step()\n",
        "\n",
        "            # Set gradients to zero\n",
        "            model.zero_grad()\n",
        "\n",
        "    return metrics_dict"
      ],
      "metadata": {
        "id": "2mqMKk35ip9f"
      },
      "execution_count": 9,
      "outputs": []
    },
    {
      "cell_type": "markdown",
      "source": [
        "### 9. Define hyperparameters, create dataloaders, instantiate model, and run training/evaluation procedure\n",
        "\n",
        "Here, we set our hyper-parameters for the dataloader (batch size) and the training loop \\\n",
        "(number of epochs, learning rate, and evaluation interval in steps).\n",
        "\n",
        "We only use very basic data loading functionality. More information on available features can be found here https://pytorch.org/docs/stable/data.html#torch.utils.data.DataLoader."
      ],
      "metadata": {
        "id": "v2h72BWltFaY"
      }
    },
    {
      "cell_type": "code",
      "source": [
        "# TODO: set your hyperparameters\n",
        "bs = 256\n",
        "num_epochs = 100\n",
        "lr = 0.1\n",
        "eval_steps = 100\n",
        "\n",
        "# Create dataloaders\n",
        "train_dataloader = DataLoader(train_dataset, batch_size=bs, shuffle=True)\n",
        "validation_dataloader = DataLoader(validation_dataset, batch_size=bs, shuffle=False)\n",
        "test_dataloader = DataLoader(test_dataset, batch_size=bs, shuffle=False)\n",
        "\n",
        "# Instantiate a new model\n",
        "model = FashionMnistResNet18()\n",
        "\n",
        "# Train model and save training and evaluation metrics\n",
        "metrics_dict = train(\n",
        "    model, train_dataloader, validation_dataloader, num_epochs=num_epochs, lr=lr, eval_steps=eval_steps\n",
        ")"
      ],
      "metadata": {
        "id": "EBGaR6FmsWtF",
        "outputId": "0f5ea823-c9fd-41d3-d6d0-298e57bc47a9",
        "colab": {
          "base_uri": "https://localhost:8080/"
        }
      },
      "execution_count": 10,
      "outputs": [
        {
          "output_type": "stream",
          "name": "stdout",
          "text": [
            "Saved new best model to best_model.pt\n",
            "\n",
            "Starting model training\n"
          ]
        },
        {
          "output_type": "stream",
          "name": "stderr",
          "text": [
            "Epoch 1: 100%|██████████| 20/20 [00:02<00:00,  8.79it/s]\n",
            "Epoch 2: 100%|██████████| 20/20 [00:01<00:00, 15.53it/s]\n",
            "Epoch 3: 100%|██████████| 20/20 [00:01<00:00, 14.14it/s]\n",
            "Epoch 4: 100%|██████████| 20/20 [00:01<00:00, 12.78it/s]\n",
            "Epoch 5:  95%|█████████▌| 19/20 [00:01<00:00, 11.60it/s]\n",
            "Evaluating:   0%|          | 0/4 [00:00<?, ?it/s]\u001b[A\n",
            "Evaluating:  25%|██▌       | 1/4 [00:00<00:00,  7.52it/s]\u001b[A\n",
            "Evaluating:  50%|█████     | 2/4 [00:00<00:00,  8.15it/s]\u001b[A\n",
            "Evaluating: 100%|██████████| 4/4 [00:00<00:00,  9.78it/s]\n",
            "\n",
            "Evaluating:   0%|          | 0/20 [00:00<?, ?it/s]\u001b[A\n",
            "Evaluating:  10%|█         | 2/20 [00:00<00:01, 13.53it/s]\u001b[A\n",
            "Evaluating:  20%|██        | 4/20 [00:00<00:01, 14.98it/s]\u001b[A\n",
            "Evaluating:  30%|███       | 6/20 [00:00<00:01, 13.26it/s]\u001b[A\n",
            "Evaluating:  40%|████      | 8/20 [00:00<00:01, 10.39it/s]\u001b[A\n",
            "Evaluating:  50%|█████     | 10/20 [00:00<00:00, 10.76it/s]\u001b[A\n",
            "Evaluating:  60%|██████    | 12/20 [00:01<00:00, 11.12it/s]\u001b[A\n",
            "Evaluating:  70%|███████   | 14/20 [00:01<00:00, 11.68it/s]\u001b[A\n",
            "Evaluating:  80%|████████  | 16/20 [00:01<00:00, 11.51it/s]\u001b[A\n",
            "Evaluating:  90%|█████████ | 18/20 [00:01<00:00, 12.40it/s]\u001b[A\n",
            "Evaluating: 100%|██████████| 20/20 [00:01<00:00, 11.89it/s]\n"
          ]
        },
        {
          "output_type": "stream",
          "name": "stdout",
          "text": [
            "\n",
            "Metrics step 100:\n",
            "  mean_train_loss: 0.8851224645972252\n",
            "  learning_rate: 0.09505000494999999\n",
            "  eval_loss: 0.5271830186247826\n",
            "  eval_accuracy: 0.7979999780654907\n",
            "  train_loss: 0.48145744055509565\n",
            "  train_accuracy: 0.8163999915122986\n",
            "  mean_eval_loss: 0.5271830186247826\n"
          ]
        },
        {
          "output_type": "stream",
          "name": "stderr",
          "text": [
            "\rEpoch 5: 100%|██████████| 20/20 [00:04<00:00,  4.61it/s]\n"
          ]
        },
        {
          "output_type": "stream",
          "name": "stdout",
          "text": [
            "Saved new best model to best_model.pt\n",
            "\n"
          ]
        },
        {
          "output_type": "stream",
          "name": "stderr",
          "text": [
            "Epoch 6: 100%|██████████| 20/20 [00:02<00:00,  7.76it/s]\n",
            "Epoch 7: 100%|██████████| 20/20 [00:01<00:00, 13.56it/s]\n",
            "Epoch 8: 100%|██████████| 20/20 [00:01<00:00, 15.06it/s]\n",
            "Epoch 9: 100%|██████████| 20/20 [00:01<00:00, 15.16it/s]\n",
            "Epoch 10:  90%|█████████ | 18/20 [00:01<00:00, 14.97it/s]\n",
            "Evaluating:   0%|          | 0/4 [00:00<?, ?it/s]\u001b[A\n",
            "Evaluating: 100%|██████████| 4/4 [00:00<00:00, 28.77it/s]\n",
            "\n",
            "Evaluating:   0%|          | 0/20 [00:00<?, ?it/s]\u001b[A\n",
            "Evaluating:  15%|█▌        | 3/20 [00:00<00:00, 26.22it/s]\u001b[A\n",
            "Evaluating:  30%|███       | 6/20 [00:00<00:00, 27.51it/s]\u001b[A\n",
            "Evaluating:  45%|████▌     | 9/20 [00:00<00:00, 27.30it/s]\u001b[A\n",
            "Evaluating:  60%|██████    | 12/20 [00:00<00:00, 27.83it/s]\u001b[A\n",
            "Evaluating:  75%|███████▌  | 15/20 [00:00<00:00, 28.27it/s]\u001b[A\n",
            "Evaluating: 100%|██████████| 20/20 [00:00<00:00, 28.61it/s]\n",
            "Epoch 10: 100%|██████████| 20/20 [00:02<00:00,  8.74it/s]\n"
          ]
        },
        {
          "output_type": "stream",
          "name": "stdout",
          "text": [
            "\n",
            "Metrics step 200:\n",
            "  mean_train_loss: 0.6282526408880948\n",
            "  learning_rate: 0.09005000994999993\n",
            "  eval_loss: 0.45154477655887604\n",
            "  eval_accuracy: 0.8389999866485596\n",
            "  train_loss: 0.2943940028548241\n",
            "  train_accuracy: 0.8870000243186951\n",
            "  mean_eval_loss: 0.4893638975918293\n",
            "Saved new best model to best_model.pt\n",
            "\n"
          ]
        },
        {
          "output_type": "stream",
          "name": "stderr",
          "text": [
            "Epoch 11: 100%|██████████| 20/20 [00:01<00:00, 15.21it/s]\n",
            "Epoch 12: 100%|██████████| 20/20 [00:01<00:00, 15.17it/s]\n",
            "Epoch 13: 100%|██████████| 20/20 [00:01<00:00, 15.03it/s]\n",
            "Epoch 14: 100%|██████████| 20/20 [00:01<00:00, 14.97it/s]\n",
            "Epoch 15:  90%|█████████ | 18/20 [00:01<00:00, 14.74it/s]\n",
            "Evaluating:   0%|          | 0/4 [00:00<?, ?it/s]\u001b[A\n",
            "Evaluating: 100%|██████████| 4/4 [00:00<00:00, 28.61it/s]\n",
            "\n",
            "Evaluating:   0%|          | 0/20 [00:00<?, ?it/s]\u001b[A\n",
            "Evaluating:  20%|██        | 4/20 [00:00<00:00, 31.06it/s]\u001b[A\n",
            "Evaluating:  40%|████      | 8/20 [00:00<00:00, 30.08it/s]\u001b[A\n",
            "Evaluating:  60%|██████    | 12/20 [00:00<00:00, 29.73it/s]\u001b[A\n",
            "Evaluating:  75%|███████▌  | 15/20 [00:00<00:00, 29.46it/s]\u001b[A\n",
            "Evaluating: 100%|██████████| 20/20 [00:00<00:00, 29.43it/s]\n",
            "Epoch 15: 100%|██████████| 20/20 [00:02<00:00,  8.75it/s]\n"
          ]
        },
        {
          "output_type": "stream",
          "name": "stdout",
          "text": [
            "\n",
            "Metrics step 300:\n",
            "  mean_train_loss: 0.49692006193101407\n",
            "  learning_rate: 0.08505001494999989\n",
            "  eval_loss: 0.44886162132024765\n",
            "  eval_accuracy: 0.859000027179718\n",
            "  train_loss: 0.1840268589556217\n",
            "  train_accuracy: 0.9279999732971191\n",
            "  mean_eval_loss: 0.47586313883463544\n",
            "Saved new best model to best_model.pt\n",
            "\n"
          ]
        },
        {
          "output_type": "stream",
          "name": "stderr",
          "text": [
            "Epoch 16: 100%|██████████| 20/20 [00:01<00:00, 15.08it/s]\n",
            "Epoch 17: 100%|██████████| 20/20 [00:01<00:00, 14.89it/s]\n",
            "Epoch 18: 100%|██████████| 20/20 [00:01<00:00, 14.99it/s]\n",
            "Epoch 19: 100%|██████████| 20/20 [00:01<00:00, 14.93it/s]\n",
            "Epoch 20:  90%|█████████ | 18/20 [00:01<00:00, 14.65it/s]\n",
            "Evaluating:   0%|          | 0/4 [00:00<?, ?it/s]\u001b[A\n",
            "Evaluating: 100%|██████████| 4/4 [00:00<00:00, 28.59it/s]\n",
            "\n",
            "Evaluating:   0%|          | 0/20 [00:00<?, ?it/s]\u001b[A\n",
            "Evaluating:  20%|██        | 4/20 [00:00<00:00, 30.94it/s]\u001b[A\n",
            "Evaluating:  40%|████      | 8/20 [00:00<00:00, 28.35it/s]\u001b[A\n",
            "Evaluating:  55%|█████▌    | 11/20 [00:00<00:00, 28.63it/s]\u001b[A\n",
            "Evaluating:  70%|███████   | 14/20 [00:00<00:00, 28.81it/s]\u001b[A\n",
            "Evaluating:  85%|████████▌ | 17/20 [00:00<00:00, 24.92it/s]\u001b[A\n",
            "Evaluating: 100%|██████████| 20/20 [00:00<00:00, 25.76it/s]\n",
            "Epoch 20: 100%|██████████| 20/20 [00:02<00:00,  8.75it/s]\n"
          ]
        },
        {
          "output_type": "stream",
          "name": "stdout",
          "text": [
            "\n",
            "Metrics step 400:\n",
            "  mean_train_loss: 0.4080180250480771\n",
            "  learning_rate: 0.08005001994999977\n",
            "  eval_loss: 0.6423846185207367\n",
            "  eval_accuracy: 0.8450000286102295\n",
            "  train_loss: 0.1410095937550068\n",
            "  train_accuracy: 0.9491999745368958\n",
            "  mean_eval_loss: 0.5174935087561607\n"
          ]
        },
        {
          "output_type": "stream",
          "name": "stderr",
          "text": [
            "Epoch 21: 100%|██████████| 20/20 [00:01<00:00, 14.62it/s]\n",
            "Epoch 22: 100%|██████████| 20/20 [00:01<00:00, 14.40it/s]\n",
            "Epoch 23: 100%|██████████| 20/20 [00:01<00:00, 14.94it/s]\n",
            "Epoch 24: 100%|██████████| 20/20 [00:01<00:00, 14.88it/s]\n",
            "Epoch 25:  90%|█████████ | 18/20 [00:01<00:00, 14.55it/s]\n",
            "Evaluating:   0%|          | 0/4 [00:00<?, ?it/s]\u001b[A\n",
            "Evaluating: 100%|██████████| 4/4 [00:00<00:00, 27.54it/s]\n",
            "\n",
            "Evaluating:   0%|          | 0/20 [00:00<?, ?it/s]\u001b[A\n",
            "Evaluating:  20%|██        | 4/20 [00:00<00:00, 30.69it/s]\u001b[A\n",
            "Evaluating:  40%|████      | 8/20 [00:00<00:00, 29.41it/s]\u001b[A\n",
            "Evaluating:  55%|█████▌    | 11/20 [00:00<00:00, 29.09it/s]\u001b[A\n",
            "Evaluating:  70%|███████   | 14/20 [00:00<00:00, 28.77it/s]\u001b[A\n",
            "Evaluating: 100%|██████████| 20/20 [00:00<00:00, 29.17it/s]\n",
            "Epoch 25: 100%|██████████| 20/20 [00:02<00:00,  9.08it/s]\n"
          ]
        },
        {
          "output_type": "stream",
          "name": "stdout",
          "text": [
            "\n",
            "Metrics step 500:\n",
            "  mean_train_loss: 0.34132088646292685\n",
            "  learning_rate: 0.07505002494999956\n",
            "  eval_loss: 0.6593412905931473\n",
            "  eval_accuracy: 0.8399999737739563\n",
            "  train_loss: 0.04789180113002658\n",
            "  train_accuracy: 0.9851999878883362\n",
            "  mean_eval_loss: 0.5458630651235581\n"
          ]
        },
        {
          "output_type": "stream",
          "name": "stderr",
          "text": [
            "Epoch 26: 100%|██████████| 20/20 [00:01<00:00, 14.81it/s]\n",
            "Epoch 27: 100%|██████████| 20/20 [00:01<00:00, 14.79it/s]\n",
            "Epoch 28: 100%|██████████| 20/20 [00:01<00:00, 14.70it/s]\n",
            "Epoch 29: 100%|██████████| 20/20 [00:01<00:00, 14.52it/s]\n",
            "Epoch 30:  90%|█████████ | 18/20 [00:01<00:00, 14.37it/s]\n",
            "Evaluating:   0%|          | 0/4 [00:00<?, ?it/s]\u001b[A\n",
            "Evaluating: 100%|██████████| 4/4 [00:00<00:00, 29.90it/s]\n",
            "\n",
            "Evaluating:   0%|          | 0/20 [00:00<?, ?it/s]\u001b[A\n",
            "Evaluating:  15%|█▌        | 3/20 [00:00<00:00, 28.86it/s]\u001b[A\n",
            "Evaluating:  30%|███       | 6/20 [00:00<00:00, 26.93it/s]\u001b[A\n",
            "Evaluating:  45%|████▌     | 9/20 [00:00<00:00, 27.45it/s]\u001b[A\n",
            "Evaluating:  60%|██████    | 12/20 [00:00<00:00, 27.55it/s]\u001b[A\n",
            "Evaluating:  75%|███████▌  | 15/20 [00:00<00:00, 27.61it/s]\u001b[A\n",
            "Evaluating: 100%|██████████| 20/20 [00:00<00:00, 28.23it/s]\n",
            "Epoch 30: 100%|██████████| 20/20 [00:02<00:00,  8.91it/s]\n"
          ]
        },
        {
          "output_type": "stream",
          "name": "stdout",
          "text": [
            "\n",
            "Metrics step 600:\n",
            "  mean_train_loss: 0.2919566860779499\n",
            "  learning_rate: 0.07005002994999944\n",
            "  eval_loss: 1.0717783123254776\n",
            "  eval_accuracy: 0.8389999866485596\n",
            "  train_loss: 0.18756111189723015\n",
            "  train_accuracy: 0.9434000253677368\n",
            "  mean_eval_loss: 0.6335156063238779\n"
          ]
        },
        {
          "output_type": "stream",
          "name": "stderr",
          "text": [
            "Epoch 31: 100%|██████████| 20/20 [00:01<00:00, 13.18it/s]\n",
            "Epoch 32: 100%|██████████| 20/20 [00:01<00:00, 11.33it/s]\n",
            "Epoch 33: 100%|██████████| 20/20 [00:01<00:00, 10.91it/s]\n",
            "Epoch 34: 100%|██████████| 20/20 [00:01<00:00, 11.71it/s]\n",
            "Epoch 35:  90%|█████████ | 18/20 [00:01<00:00, 14.33it/s]\n",
            "Evaluating:   0%|          | 0/4 [00:00<?, ?it/s]\u001b[A\n",
            "Evaluating: 100%|██████████| 4/4 [00:00<00:00, 21.36it/s]\n",
            "\n",
            "Evaluating:   0%|          | 0/20 [00:00<?, ?it/s]\u001b[A\n",
            "Evaluating:  15%|█▌        | 3/20 [00:00<00:00, 20.34it/s]\u001b[A\n",
            "Evaluating:  30%|███       | 6/20 [00:00<00:00, 21.50it/s]\u001b[A\n",
            "Evaluating:  45%|████▌     | 9/20 [00:00<00:00, 20.37it/s]\u001b[A\n",
            "Evaluating:  60%|██████    | 12/20 [00:00<00:00, 20.90it/s]\u001b[A\n",
            "Evaluating:  75%|███████▌  | 15/20 [00:00<00:00, 21.22it/s]\u001b[A\n",
            "Evaluating: 100%|██████████| 20/20 [00:00<00:00, 21.84it/s]\n",
            "Epoch 35: 100%|██████████| 20/20 [00:02<00:00,  7.98it/s]\n"
          ]
        },
        {
          "output_type": "stream",
          "name": "stdout",
          "text": [
            "\n",
            "Metrics step 700:\n",
            "  mean_train_loss: 0.2541433778332014\n",
            "  learning_rate: 0.06505003494999935\n",
            "  eval_loss: 1.0487065464258194\n",
            "  eval_accuracy: 0.8410000205039978\n",
            "  train_loss: 0.07342242281883955\n",
            "  train_accuracy: 0.9746000170707703\n",
            "  mean_eval_loss: 0.6928285977670124\n"
          ]
        },
        {
          "output_type": "stream",
          "name": "stderr",
          "text": [
            "Epoch 36: 100%|██████████| 20/20 [00:01<00:00, 14.38it/s]\n",
            "Epoch 37: 100%|██████████| 20/20 [00:01<00:00, 14.48it/s]\n",
            "Epoch 38: 100%|██████████| 20/20 [00:01<00:00, 14.50it/s]\n",
            "Epoch 39: 100%|██████████| 20/20 [00:01<00:00, 14.36it/s]\n",
            "Epoch 40:  90%|█████████ | 18/20 [00:01<00:00, 14.15it/s]\n",
            "Evaluating:   0%|          | 0/4 [00:00<?, ?it/s]\u001b[A\n",
            "Evaluating: 100%|██████████| 4/4 [00:00<00:00, 27.18it/s]\n",
            "\n",
            "Evaluating:   0%|          | 0/20 [00:00<?, ?it/s]\u001b[A\n",
            "Evaluating:  15%|█▌        | 3/20 [00:00<00:00, 28.78it/s]\u001b[A\n",
            "Evaluating:  30%|███       | 6/20 [00:00<00:00, 28.46it/s]\u001b[A\n",
            "Evaluating:  45%|████▌     | 9/20 [00:00<00:00, 28.00it/s]\u001b[A\n",
            "Evaluating:  60%|██████    | 12/20 [00:00<00:00, 27.21it/s]\u001b[A\n",
            "Evaluating:  75%|███████▌  | 15/20 [00:00<00:00, 26.70it/s]\u001b[A\n",
            "Evaluating: 100%|██████████| 20/20 [00:00<00:00, 27.87it/s]\n",
            "Epoch 40: 100%|██████████| 20/20 [00:02<00:00,  8.80it/s]\n"
          ]
        },
        {
          "output_type": "stream",
          "name": "stdout",
          "text": [
            "\n",
            "Metrics step 800:\n",
            "  mean_train_loss: 0.22475736911466812\n",
            "  learning_rate: 0.06005003994999934\n",
            "  eval_loss: 0.9697324931621552\n",
            "  eval_accuracy: 0.8389999866485596\n",
            "  train_loss: 0.0060518333222717045\n",
            "  train_accuracy: 0.998199999332428\n",
            "  mean_eval_loss: 0.7274415846914053\n"
          ]
        },
        {
          "output_type": "stream",
          "name": "stderr",
          "text": [
            "Epoch 41: 100%|██████████| 20/20 [00:01<00:00, 14.34it/s]\n",
            "Epoch 42: 100%|██████████| 20/20 [00:01<00:00, 14.46it/s]\n",
            "Epoch 43: 100%|██████████| 20/20 [00:01<00:00, 14.27it/s]\n",
            "Epoch 44: 100%|██████████| 20/20 [00:01<00:00, 14.02it/s]\n",
            "Epoch 45:  90%|█████████ | 18/20 [00:01<00:00, 14.08it/s]\n",
            "Evaluating:   0%|          | 0/4 [00:00<?, ?it/s]\u001b[A\n",
            "Evaluating: 100%|██████████| 4/4 [00:00<00:00, 27.11it/s]\n",
            "\n",
            "Evaluating:   0%|          | 0/20 [00:00<?, ?it/s]\u001b[A\n",
            "Evaluating:  15%|█▌        | 3/20 [00:00<00:00, 28.35it/s]\u001b[A\n",
            "Evaluating:  30%|███       | 6/20 [00:00<00:00, 27.87it/s]\u001b[A\n",
            "Evaluating:  45%|████▌     | 9/20 [00:00<00:00, 27.72it/s]\u001b[A\n",
            "Evaluating:  60%|██████    | 12/20 [00:00<00:00, 27.66it/s]\u001b[A\n",
            "Evaluating:  75%|███████▌  | 15/20 [00:00<00:00, 27.69it/s]\u001b[A\n",
            "Evaluating: 100%|██████████| 20/20 [00:00<00:00, 28.23it/s]\n",
            "Epoch 45: 100%|██████████| 20/20 [00:02<00:00,  8.76it/s]\n"
          ]
        },
        {
          "output_type": "stream",
          "name": "stdout",
          "text": [
            "\n",
            "Metrics step 900:\n",
            "  mean_train_loss: 0.2011575202055327\n",
            "  learning_rate: 0.055050044949999356\n",
            "  eval_loss: 1.0336773991584778\n",
            "  eval_accuracy: 0.8339999914169312\n",
            "  train_loss: 0.04887063540518284\n",
            "  train_accuracy: 0.9825999736785889\n",
            "  mean_eval_loss: 0.7614677862988578\n"
          ]
        },
        {
          "output_type": "stream",
          "name": "stderr",
          "text": [
            "Epoch 46: 100%|██████████| 20/20 [00:01<00:00, 14.22it/s]\n",
            "Epoch 47: 100%|██████████| 20/20 [00:01<00:00, 14.20it/s]\n",
            "Epoch 48: 100%|██████████| 20/20 [00:01<00:00, 13.03it/s]\n",
            "Epoch 49: 100%|██████████| 20/20 [00:01<00:00, 12.33it/s]\n",
            "Epoch 50:  90%|█████████ | 18/20 [00:01<00:00, 13.79it/s]\n",
            "Evaluating:   0%|          | 0/4 [00:00<?, ?it/s]\u001b[A\n",
            "Evaluating: 100%|██████████| 4/4 [00:00<00:00, 21.20it/s]\n",
            "\n",
            "Evaluating:   0%|          | 0/20 [00:00<?, ?it/s]\u001b[A\n",
            "Evaluating:  15%|█▌        | 3/20 [00:00<00:00, 21.75it/s]\u001b[A\n",
            "Evaluating:  30%|███       | 6/20 [00:00<00:00, 20.11it/s]\u001b[A\n",
            "Evaluating:  45%|████▌     | 9/20 [00:00<00:00, 21.08it/s]\u001b[A\n",
            "Evaluating:  60%|██████    | 12/20 [00:00<00:00, 21.35it/s]\u001b[A\n",
            "Evaluating:  75%|███████▌  | 15/20 [00:00<00:00, 20.05it/s]\u001b[A\n",
            "Evaluating: 100%|██████████| 20/20 [00:00<00:00, 20.20it/s]\n",
            "Epoch 50: 100%|██████████| 20/20 [00:02<00:00,  7.63it/s]\n"
          ]
        },
        {
          "output_type": "stream",
          "name": "stdout",
          "text": [
            "\n",
            "Metrics step 1000:\n",
            "  mean_train_loss: 0.18133732114807935\n",
            "  learning_rate: 0.050050049949999446\n",
            "  eval_loss: 0.9417082667350769\n",
            "  eval_accuracy: 0.8669999837875366\n",
            "  train_loss: 0.00025009419332491236\n",
            "  train_accuracy: 1.0\n",
            "  mean_eval_loss: 0.7794918343424797\n"
          ]
        },
        {
          "output_type": "stream",
          "name": "stderr",
          "text": [
            "Epoch 51: 100%|██████████| 20/20 [00:01<00:00, 14.04it/s]\n",
            "Epoch 52: 100%|██████████| 20/20 [00:01<00:00, 14.14it/s]\n",
            "Epoch 53: 100%|██████████| 20/20 [00:01<00:00, 14.16it/s]\n",
            "Epoch 54: 100%|██████████| 20/20 [00:01<00:00, 14.10it/s]\n",
            "Epoch 55:  90%|█████████ | 18/20 [00:01<00:00, 13.77it/s]\n",
            "Evaluating:   0%|          | 0/4 [00:00<?, ?it/s]\u001b[A\n",
            "Evaluating: 100%|██████████| 4/4 [00:00<00:00, 27.84it/s]\n",
            "\n",
            "Evaluating:   0%|          | 0/20 [00:00<?, ?it/s]\u001b[A\n",
            "Evaluating:  15%|█▌        | 3/20 [00:00<00:00, 29.65it/s]\u001b[A\n",
            "Evaluating:  30%|███       | 6/20 [00:00<00:00, 29.03it/s]\u001b[A\n",
            "Evaluating:  45%|████▌     | 9/20 [00:00<00:00, 28.51it/s]\u001b[A\n",
            "Evaluating:  60%|██████    | 12/20 [00:00<00:00, 27.93it/s]\u001b[A\n",
            "Evaluating:  75%|███████▌  | 15/20 [00:00<00:00, 28.17it/s]\u001b[A\n",
            "Evaluating: 100%|██████████| 20/20 [00:00<00:00, 28.32it/s]\n",
            "Epoch 55: 100%|██████████| 20/20 [00:02<00:00,  8.70it/s]\n"
          ]
        },
        {
          "output_type": "stream",
          "name": "stdout",
          "text": [
            "\n",
            "Metrics step 1100:\n",
            "  mean_train_loss: 0.1648809045243979\n",
            "  learning_rate: 0.045050054949999536\n",
            "  eval_loss: 0.9578895568847656\n",
            "  eval_accuracy: 0.8629999756813049\n",
            "  train_loss: 0.0001328499954979634\n",
            "  train_accuracy: 1.0\n",
            "  mean_eval_loss: 0.7957098091190512\n"
          ]
        },
        {
          "output_type": "stream",
          "name": "stderr",
          "text": [
            "Epoch 56: 100%|██████████| 20/20 [00:01<00:00, 14.00it/s]\n",
            "Epoch 57: 100%|██████████| 20/20 [00:01<00:00, 13.90it/s]\n",
            "Epoch 58: 100%|██████████| 20/20 [00:01<00:00, 13.76it/s]\n",
            "Epoch 59: 100%|██████████| 20/20 [00:01<00:00, 13.74it/s]\n",
            "Epoch 60:  90%|█████████ | 18/20 [00:01<00:00, 13.59it/s]\n",
            "Evaluating:   0%|          | 0/4 [00:00<?, ?it/s]\u001b[A\n",
            "Evaluating: 100%|██████████| 4/4 [00:00<00:00, 28.72it/s]\n",
            "\n",
            "Evaluating:   0%|          | 0/20 [00:00<?, ?it/s]\u001b[A\n",
            "Evaluating:  15%|█▌        | 3/20 [00:00<00:00, 29.30it/s]\u001b[A\n",
            "Evaluating:  30%|███       | 6/20 [00:00<00:00, 28.66it/s]\u001b[A\n",
            "Evaluating:  45%|████▌     | 9/20 [00:00<00:00, 28.94it/s]\u001b[A\n",
            "Evaluating:  60%|██████    | 12/20 [00:00<00:00, 29.19it/s]\u001b[A\n",
            "Evaluating:  75%|███████▌  | 15/20 [00:00<00:00, 28.60it/s]\u001b[A\n",
            "Evaluating: 100%|██████████| 20/20 [00:00<00:00, 29.22it/s]\n",
            "Epoch 60: 100%|██████████| 20/20 [00:02<00:00,  8.76it/s]\n"
          ]
        },
        {
          "output_type": "stream",
          "name": "stdout",
          "text": [
            "\n",
            "Metrics step 1200:\n",
            "  mean_train_loss: 0.15119777886880303\n",
            "  learning_rate: 0.04005005994999966\n",
            "  eval_loss: 0.9871836006641388\n",
            "  eval_accuracy: 0.8650000095367432\n",
            "  train_loss: 0.00018158824677811937\n",
            "  train_accuracy: 1.0\n",
            "  mean_eval_loss: 0.8116659584144751\n"
          ]
        },
        {
          "output_type": "stream",
          "name": "stderr",
          "text": [
            "Epoch 61: 100%|██████████| 20/20 [00:01<00:00, 13.79it/s]\n",
            "Epoch 62: 100%|██████████| 20/20 [00:01<00:00, 13.86it/s]\n",
            "Epoch 63: 100%|██████████| 20/20 [00:01<00:00, 13.81it/s]\n",
            "Epoch 64: 100%|██████████| 20/20 [00:01<00:00, 13.85it/s]\n",
            "Epoch 65:  90%|█████████ | 18/20 [00:01<00:00, 13.48it/s]\n",
            "Evaluating:   0%|          | 0/4 [00:00<?, ?it/s]\u001b[A\n",
            "Evaluating: 100%|██████████| 4/4 [00:00<00:00, 22.26it/s]\n",
            "\n",
            "Evaluating:   0%|          | 0/20 [00:00<?, ?it/s]\u001b[A\n",
            "Evaluating:  15%|█▌        | 3/20 [00:00<00:00, 22.53it/s]\u001b[A\n",
            "Evaluating:  30%|███       | 6/20 [00:00<00:00, 20.71it/s]\u001b[A\n",
            "Evaluating:  45%|████▌     | 9/20 [00:00<00:00, 20.14it/s]\u001b[A\n",
            "Evaluating:  60%|██████    | 12/20 [00:00<00:00, 19.75it/s]\u001b[A\n",
            "Evaluating:  70%|███████   | 14/20 [00:00<00:00, 18.12it/s]\u001b[A\n",
            "Evaluating:  80%|████████  | 16/20 [00:00<00:00, 16.66it/s]\u001b[A\n",
            "Evaluating: 100%|██████████| 20/20 [00:01<00:00, 19.70it/s]\n",
            "Epoch 65: 100%|██████████| 20/20 [00:02<00:00,  7.47it/s]\n"
          ]
        },
        {
          "output_type": "stream",
          "name": "stdout",
          "text": [
            "\n",
            "Metrics step 1300:\n",
            "  mean_train_loss: 0.13958577941570324\n",
            "  learning_rate: 0.03505006494999977\n",
            "  eval_loss: 0.9643889218568802\n",
            "  eval_accuracy: 0.8619999885559082\n",
            "  train_loss: 9.78956815743004e-05\n",
            "  train_accuracy: 1.0\n",
            "  mean_eval_loss: 0.8234138786792755\n"
          ]
        },
        {
          "output_type": "stream",
          "name": "stderr",
          "text": [
            "Epoch 66: 100%|██████████| 20/20 [00:01<00:00, 13.77it/s]\n",
            "Epoch 67: 100%|██████████| 20/20 [00:01<00:00, 13.72it/s]\n",
            "Epoch 68: 100%|██████████| 20/20 [00:01<00:00, 13.77it/s]\n",
            "Epoch 69: 100%|██████████| 20/20 [00:01<00:00, 13.75it/s]\n",
            "Epoch 70:  90%|█████████ | 18/20 [00:01<00:00, 13.46it/s]\n",
            "Evaluating:   0%|          | 0/4 [00:00<?, ?it/s]\u001b[A\n",
            "Evaluating: 100%|██████████| 4/4 [00:00<00:00, 25.39it/s]\n",
            "\n",
            "Evaluating:   0%|          | 0/20 [00:00<?, ?it/s]\u001b[A\n",
            "Evaluating:  15%|█▌        | 3/20 [00:00<00:00, 26.58it/s]\u001b[A\n",
            "Evaluating:  30%|███       | 6/20 [00:00<00:00, 25.04it/s]\u001b[A\n",
            "Evaluating:  45%|████▌     | 9/20 [00:00<00:00, 26.64it/s]\u001b[A\n",
            "Evaluating:  60%|██████    | 12/20 [00:00<00:00, 26.98it/s]\u001b[A\n",
            "Evaluating:  75%|███████▌  | 15/20 [00:00<00:00, 26.33it/s]\u001b[A\n",
            "Evaluating: 100%|██████████| 20/20 [00:00<00:00, 27.31it/s]\n",
            "Epoch 70: 100%|██████████| 20/20 [00:02<00:00,  8.43it/s]\n"
          ]
        },
        {
          "output_type": "stream",
          "name": "stdout",
          "text": [
            "\n",
            "Metrics step 1400:\n",
            "  mean_train_loss: 0.1296272307756278\n",
            "  learning_rate: 0.030050069949999845\n",
            "  eval_loss: 0.9727503061294556\n",
            "  eval_accuracy: 0.8679999709129333\n",
            "  train_loss: 7.898078401922249e-05\n",
            "  train_accuracy: 1.0\n",
            "  mean_eval_loss: 0.8340807663542884\n"
          ]
        },
        {
          "output_type": "stream",
          "name": "stderr",
          "text": [
            "Epoch 71: 100%|██████████| 20/20 [00:01<00:00, 13.76it/s]\n",
            "Epoch 72: 100%|██████████| 20/20 [00:01<00:00, 13.61it/s]\n",
            "Epoch 73: 100%|██████████| 20/20 [00:01<00:00, 13.58it/s]\n",
            "Epoch 74: 100%|██████████| 20/20 [00:01<00:00, 11.53it/s]\n",
            "Epoch 75:  90%|█████████ | 18/20 [00:01<00:00, 13.44it/s]\n",
            "Evaluating:   0%|          | 0/4 [00:00<?, ?it/s]\u001b[A\n",
            "Evaluating: 100%|██████████| 4/4 [00:00<00:00, 27.89it/s]\n",
            "\n",
            "Evaluating:   0%|          | 0/20 [00:00<?, ?it/s]\u001b[A\n",
            "Evaluating:  15%|█▌        | 3/20 [00:00<00:00, 28.77it/s]\u001b[A\n",
            "Evaluating:  30%|███       | 6/20 [00:00<00:00, 26.55it/s]\u001b[A\n",
            "Evaluating:  45%|████▌     | 9/20 [00:00<00:00, 26.77it/s]\u001b[A\n",
            "Evaluating:  60%|██████    | 12/20 [00:00<00:00, 26.50it/s]\u001b[A\n",
            "Evaluating:  75%|███████▌  | 15/20 [00:00<00:00, 27.08it/s]\u001b[A\n",
            "Evaluating: 100%|██████████| 20/20 [00:00<00:00, 27.70it/s]\n",
            "Epoch 75: 100%|██████████| 20/20 [00:02<00:00,  8.48it/s]\n"
          ]
        },
        {
          "output_type": "stream",
          "name": "stdout",
          "text": [
            "\n",
            "Metrics step 1500:\n",
            "  mean_train_loss: 0.12099538926917983\n",
            "  learning_rate: 0.025050074949999862\n",
            "  eval_loss: 0.9813573807477951\n",
            "  eval_accuracy: 0.8669999837875366\n",
            "  train_loss: 6.690854261250933e-05\n",
            "  train_accuracy: 1.0\n",
            "  mean_eval_loss: 0.8438992073138555\n"
          ]
        },
        {
          "output_type": "stream",
          "name": "stderr",
          "text": [
            "Epoch 76: 100%|██████████| 20/20 [00:01<00:00, 13.78it/s]\n",
            "Epoch 77: 100%|██████████| 20/20 [00:01<00:00, 13.66it/s]\n",
            "Epoch 78: 100%|██████████| 20/20 [00:01<00:00, 13.74it/s]\n",
            "Epoch 79: 100%|██████████| 20/20 [00:01<00:00, 13.77it/s]\n",
            "Epoch 80:  90%|█████████ | 18/20 [00:01<00:00, 13.57it/s]\n",
            "Evaluating:   0%|          | 0/4 [00:00<?, ?it/s]\u001b[A\n",
            "Evaluating: 100%|██████████| 4/4 [00:00<00:00, 27.01it/s]\n",
            "\n",
            "Evaluating:   0%|          | 0/20 [00:00<?, ?it/s]\u001b[A\n",
            "Evaluating:  20%|██        | 4/20 [00:00<00:00, 30.33it/s]\u001b[A\n",
            "Evaluating:  40%|████      | 8/20 [00:00<00:00, 28.36it/s]\u001b[A\n",
            "Evaluating:  55%|█████▌    | 11/20 [00:00<00:00, 27.79it/s]\u001b[A\n",
            "Evaluating:  70%|███████   | 14/20 [00:00<00:00, 27.91it/s]\u001b[A\n",
            "Evaluating: 100%|██████████| 20/20 [00:00<00:00, 28.82it/s]\n",
            "Epoch 80: 100%|██████████| 20/20 [00:02<00:00,  8.60it/s]\n"
          ]
        },
        {
          "output_type": "stream",
          "name": "stdout",
          "text": [
            "\n",
            "Metrics step 1600:\n",
            "  mean_train_loss: 0.11344055098774788\n",
            "  learning_rate: 0.02005007994999987\n",
            "  eval_loss: 0.9907037317752838\n",
            "  eval_accuracy: 0.8690000176429749\n",
            "  train_loss: 5.890843149245484e-05\n",
            "  train_accuracy: 1.0\n",
            "  mean_eval_loss: 0.8530744900926948\n"
          ]
        },
        {
          "output_type": "stream",
          "name": "stderr",
          "text": [
            "Epoch 81: 100%|██████████| 20/20 [00:01<00:00, 13.89it/s]\n",
            "Epoch 82: 100%|██████████| 20/20 [00:01<00:00, 13.89it/s]\n",
            "Epoch 83: 100%|██████████| 20/20 [00:01<00:00, 13.90it/s]\n",
            "Epoch 84: 100%|██████████| 20/20 [00:01<00:00, 13.96it/s]\n",
            "Epoch 85:  90%|█████████ | 18/20 [00:01<00:00, 13.71it/s]\n",
            "Evaluating:   0%|          | 0/4 [00:00<?, ?it/s]\u001b[A\n",
            "Evaluating: 100%|██████████| 4/4 [00:00<00:00, 29.05it/s]\n",
            "\n",
            "Evaluating:   0%|          | 0/20 [00:00<?, ?it/s]\u001b[A\n",
            "Evaluating:  15%|█▌        | 3/20 [00:00<00:00, 28.80it/s]\u001b[A\n",
            "Evaluating:  30%|███       | 6/20 [00:00<00:00, 28.94it/s]\u001b[A\n",
            "Evaluating:  45%|████▌     | 9/20 [00:00<00:00, 28.95it/s]\u001b[A\n",
            "Evaluating:  60%|██████    | 12/20 [00:00<00:00, 27.66it/s]\u001b[A\n",
            "Evaluating:  75%|███████▌  | 15/20 [00:00<00:00, 28.18it/s]\u001b[A\n",
            "Evaluating: 100%|██████████| 20/20 [00:00<00:00, 28.86it/s]\n",
            "Epoch 85: 100%|██████████| 20/20 [00:02<00:00,  8.73it/s]\n"
          ]
        },
        {
          "output_type": "stream",
          "name": "stdout",
          "text": [
            "\n",
            "Metrics step 1700:\n",
            "  mean_train_loss: 0.1067740210458257\n",
            "  learning_rate: 0.015050084949999864\n",
            "  eval_loss: 0.9942179769277573\n",
            "  eval_accuracy: 0.8700000047683716\n",
            "  train_loss: 5.513820124178892e-05\n",
            "  train_accuracy: 1.0\n",
            "  mean_eval_loss: 0.861377048141816\n"
          ]
        },
        {
          "output_type": "stream",
          "name": "stderr",
          "text": [
            "Epoch 86: 100%|██████████| 20/20 [00:01<00:00, 13.97it/s]\n",
            "Epoch 87: 100%|██████████| 20/20 [00:01<00:00, 13.90it/s]\n",
            "Epoch 88: 100%|██████████| 20/20 [00:01<00:00, 14.02it/s]\n",
            "Epoch 89: 100%|██████████| 20/20 [00:01<00:00, 13.97it/s]\n",
            "Epoch 90:  90%|█████████ | 18/20 [00:01<00:00, 13.70it/s]\n",
            "Evaluating:   0%|          | 0/4 [00:00<?, ?it/s]\u001b[A\n",
            "Evaluating: 100%|██████████| 4/4 [00:00<00:00, 28.20it/s]\n",
            "\n",
            "Evaluating:   0%|          | 0/20 [00:00<?, ?it/s]\u001b[A\n",
            "Evaluating:  15%|█▌        | 3/20 [00:00<00:00, 27.64it/s]\u001b[A\n",
            "Evaluating:  30%|███       | 6/20 [00:00<00:00, 26.31it/s]\u001b[A\n",
            "Evaluating:  45%|████▌     | 9/20 [00:00<00:00, 26.95it/s]\u001b[A\n",
            "Evaluating:  60%|██████    | 12/20 [00:00<00:00, 27.48it/s]\u001b[A\n",
            "Evaluating:  75%|███████▌  | 15/20 [00:00<00:00, 26.61it/s]\u001b[A\n",
            "Evaluating: 100%|██████████| 20/20 [00:00<00:00, 27.48it/s]\n",
            "Epoch 90: 100%|██████████| 20/20 [00:02<00:00,  8.56it/s]\n"
          ]
        },
        {
          "output_type": "stream",
          "name": "stdout",
          "text": [
            "\n",
            "Metrics step 1800:\n",
            "  mean_train_loss: 0.10084858632313626\n",
            "  learning_rate: 0.010050089949999917\n",
            "  eval_loss: 0.9908266216516495\n",
            "  eval_accuracy: 0.8679999709129333\n",
            "  train_loss: 5.292004916555015e-05\n",
            "  train_accuracy: 1.0\n",
            "  mean_eval_loss: 0.8685686911145846\n"
          ]
        },
        {
          "output_type": "stream",
          "name": "stderr",
          "text": [
            "Epoch 91: 100%|██████████| 20/20 [00:01<00:00, 14.05it/s]\n",
            "Epoch 92: 100%|██████████| 20/20 [00:01<00:00, 14.04it/s]\n",
            "Epoch 93: 100%|██████████| 20/20 [00:01<00:00, 14.04it/s]\n",
            "Epoch 94: 100%|██████████| 20/20 [00:01<00:00, 13.98it/s]\n",
            "Epoch 95:  90%|█████████ | 18/20 [00:01<00:00, 13.71it/s]\n",
            "Evaluating:   0%|          | 0/4 [00:00<?, ?it/s]\u001b[A\n",
            "Evaluating: 100%|██████████| 4/4 [00:00<00:00, 26.99it/s]\n",
            "\n",
            "Evaluating:   0%|          | 0/20 [00:00<?, ?it/s]\u001b[A\n",
            "Evaluating:  15%|█▌        | 3/20 [00:00<00:00, 28.59it/s]\u001b[A\n",
            "Evaluating:  30%|███       | 6/20 [00:00<00:00, 27.97it/s]\u001b[A\n",
            "Evaluating:  45%|████▌     | 9/20 [00:00<00:00, 27.78it/s]\u001b[A\n",
            "Evaluating:  60%|██████    | 12/20 [00:00<00:00, 28.46it/s]\u001b[A\n",
            "Evaluating:  75%|███████▌  | 15/20 [00:00<00:00, 28.02it/s]\u001b[A\n",
            "Evaluating: 100%|██████████| 20/20 [00:00<00:00, 28.31it/s]\n",
            "Epoch 95: 100%|██████████| 20/20 [00:02<00:00,  8.58it/s]\n"
          ]
        },
        {
          "output_type": "stream",
          "name": "stdout",
          "text": [
            "\n",
            "Metrics step 1900:\n",
            "  mean_train_loss: 0.09554665148484147\n",
            "  learning_rate: 0.005050094949999962\n",
            "  eval_loss: 0.9961750656366348\n",
            "  eval_accuracy: 0.8709999918937683\n",
            "  train_loss: 5.165560041859862e-05\n",
            "  train_accuracy: 1.0\n",
            "  mean_eval_loss: 0.8752848160894293\n"
          ]
        },
        {
          "output_type": "stream",
          "name": "stderr",
          "text": [
            "Epoch 96: 100%|██████████| 20/20 [00:01<00:00, 14.04it/s]\n",
            "Epoch 97: 100%|██████████| 20/20 [00:01<00:00, 14.04it/s]\n",
            "Epoch 98: 100%|██████████| 20/20 [00:01<00:00, 14.05it/s]\n",
            "Epoch 99: 100%|██████████| 20/20 [00:01<00:00, 13.99it/s]\n",
            "Epoch 100:  90%|█████████ | 18/20 [00:01<00:00, 13.72it/s]\n",
            "Evaluating:   0%|          | 0/4 [00:00<?, ?it/s]\u001b[A\n",
            "Evaluating: 100%|██████████| 4/4 [00:00<00:00, 27.63it/s]\n",
            "\n",
            "Evaluating:   0%|          | 0/20 [00:00<?, ?it/s]\u001b[A\n",
            "Evaluating:  15%|█▌        | 3/20 [00:00<00:00, 29.83it/s]\u001b[A\n",
            "Evaluating:  30%|███       | 6/20 [00:00<00:00, 28.94it/s]\u001b[A\n",
            "Evaluating:  45%|████▌     | 9/20 [00:00<00:00, 29.14it/s]\u001b[A\n",
            "Evaluating:  60%|██████    | 12/20 [00:00<00:00, 29.00it/s]\u001b[A\n",
            "Evaluating:  75%|███████▌  | 15/20 [00:00<00:00, 28.56it/s]\u001b[A\n",
            "Evaluating: 100%|██████████| 20/20 [00:00<00:00, 28.59it/s]\n",
            "Epoch 100: 100%|██████████| 20/20 [00:02<00:00,  8.70it/s]"
          ]
        },
        {
          "output_type": "stream",
          "name": "stdout",
          "text": [
            "\n",
            "Metrics step 2000:\n",
            "  mean_train_loss: 0.09077492282350431\n",
            "  learning_rate: 5.009994999999962e-05\n",
            "  eval_loss: 1.0056583136320114\n",
            "  eval_accuracy: 0.8629999756813049\n",
            "  train_loss: 4.9135167500935495e-05\n",
            "  train_accuracy: 1.0\n",
            "  mean_eval_loss: 0.8818034909665584\n"
          ]
        },
        {
          "output_type": "stream",
          "name": "stderr",
          "text": [
            "\n"
          ]
        }
      ]
    },
    {
      "cell_type": "markdown",
      "source": [
        "### 10. Load our saved best model checkpoint\n",
        "\n",
        "We can make use of the `load_best_model` function defined above to quickly load \\\n",
        "the best model checkpoint for further evaluation.\n",
        "\n",
        "You can find more information on saving and loading model weights at\n",
        "\n",
        "https://pytorch.org/tutorials/beginner/saving_loading_models.html."
      ],
      "metadata": {
        "id": "C27zjwzquLGx"
      }
    },
    {
      "cell_type": "code",
      "source": [
        "best_model = load_best_model(FashionMnistResNet18())"
      ],
      "metadata": {
        "id": "w8AolrjruF4I",
        "colab": {
          "base_uri": "https://localhost:8080/"
        },
        "outputId": "ec24238b-be58-4ade-a036-efa274e4a7b4"
      },
      "execution_count": 11,
      "outputs": [
        {
          "output_type": "stream",
          "name": "stdout",
          "text": [
            "Loaded best FashionMnistResNet18 model from best_model.pt\n",
            "\n"
          ]
        }
      ]
    },
    {
      "cell_type": "markdown",
      "source": [
        "### 11. Evaluate your best model and visualize the confusion matrix\n",
        "\n",
        "TODO: You should implement this yourself using the functions defined above."
      ],
      "metadata": {
        "id": "t4DlELCbvybc"
      }
    },
    {
      "cell_type": "code",
      "source": [
        "# TODO\n",
        "evaluation = evaluate(best_model, validation_dataloader)\n",
        "print('\\n')\n",
        "print(evaluation['eval_conf_matrix'])\n",
        "print('\\n')\n",
        "\n",
        "\n",
        "\n",
        "epochs = sorted(metrics_dict.keys())\n",
        "\n",
        "epochs_list = []\n",
        "\n",
        "for epoch in metrics_dict.keys():\n",
        "  epochs_list.append(epoch)\n",
        "\n",
        "mean_train_losses = [metrics_dict[epoch]['mean_train_loss'] for epoch in epochs]\n",
        "mean_eval_losses = [metrics_dict[epoch]['mean_eval_loss'] for epoch in epochs]\n",
        "print(epochs_list)"
      ],
      "metadata": {
        "id": "WKHN3rh6v-mU",
        "colab": {
          "base_uri": "https://localhost:8080/"
        },
        "outputId": "ce99df82-10f6-456e-ed48-373001c9d2c2"
      },
      "execution_count": 49,
      "outputs": [
        {
          "output_type": "stream",
          "name": "stderr",
          "text": [
            "Evaluating: 100%|██████████| 4/4 [00:00<00:00, 18.40it/s]"
          ]
        },
        {
          "output_type": "stream",
          "name": "stdout",
          "text": [
            "\n",
            "\n",
            "[[ 59   0   2   7   0   0  17   0   1   0]\n",
            " [  0 103   1   2   0   0   0   0   0   0]\n",
            " [  0   0  93   3  11   0   7   0   0   0]\n",
            " [  0   0   0  91   4   0   0   0   0   0]\n",
            " [  0   0  13   7  67   0   4   0   0   0]\n",
            " [  0   0   0   0   0  91   0   0   0   2]\n",
            " [  8   0  15   7   8   0  55   0   0   0]\n",
            " [  0   0   0   0   0   5   0  88   0   7]\n",
            " [  0   0   0   2   1   1   2   0 105   0]\n",
            " [  0   0   0   0   0   1   0   3   0 107]]\n",
            "\n",
            "\n",
            "[100, 200, 300, 400, 500, 600, 700, 800, 900, 1000, 1100, 1200, 1300, 1400, 1500, 1600, 1700, 1800, 1900, 2000]\n"
          ]
        },
        {
          "output_type": "stream",
          "name": "stderr",
          "text": [
            "\n"
          ]
        }
      ]
    },
    {
      "cell_type": "markdown",
      "source": [
        "### 12. Plot your loss curves\n",
        "\n",
        "TODO: You should implement this yourself. Use the `metrics_dict` returned by the training loop."
      ],
      "metadata": {
        "id": "VpGn2mqkv9H0"
      }
    },
    {
      "cell_type": "code",
      "source": [
        "# TODO\n",
        "\n",
        "plt.figure(figsize=(10, 5))\n",
        "\n",
        "plt.plot(epochs_list, mean_train_losses, label='Training Loss')\n",
        "plt.plot(epochs_list, mean_eval_losses, label='Validation Loss')\n",
        "plt.title('Training and Validation Loss')\n",
        "plt.xlabel('Epochs')\n",
        "plt.ylabel('Loss')\n",
        "plt.legend()\n",
        "plt.grid(True)\n",
        "plt.show()\n",
        "\n"
      ],
      "metadata": {
        "id": "DJeeESOUwzVz",
        "colab": {
          "base_uri": "https://localhost:8080/",
          "height": 487
        },
        "outputId": "fd9d72d3-eec8-4951-bd4a-12f6ea952f98"
      },
      "execution_count": 50,
      "outputs": [
        {
          "output_type": "display_data",
          "data": {
            "text/plain": [
              "<Figure size 1000x500 with 1 Axes>"
            ],
            "image/png": "[encoded data removed]"
          },
          "metadata": {}
        }
      ]
    },
    {
      "cell_type": "markdown",
      "source": [
        "### 12. Plot your accuracy curves\n",
        "\n",
        "TODO: You should implement this yourself. Use the `metrics_dict` returned by the training loop."
      ],
      "metadata": {
        "id": "T9B2Pp3ywDEf"
      }
    },
    {
      "cell_type": "code",
      "source": [
        "# TODO\n",
        "\n",
        "train_accuracies = [metrics_dict[epoch]['train_accuracy'] for epoch in epochs]\n",
        "eval_accuracies = [metrics_dict[epoch]['eval_accuracy'] for epoch in epochs]\n",
        "\n",
        "plt.figure(figsize=(10, 5))\n",
        "\n",
        "plt.plot(epochs_list, train_accuracies, label='Train Accuracies')\n",
        "plt.plot(epochs_list, eval_accuracies, label='Validation Accuracies')\n",
        "plt.title('Training and Validation accuracies')\n",
        "plt.xlabel('Epochs')\n",
        "plt.ylabel('Accuracy')\n",
        "plt.legend()\n",
        "plt.grid(True)\n",
        "plt.show()"
      ],
      "metadata": {
        "id": "5GkdPLh8w3oi",
        "colab": {
          "base_uri": "https://localhost:8080/",
          "height": 487
        },
        "outputId": "212146c8-66a2-43d1-9d63-98d6a982a87a"
      },
      "execution_count": 54,
      "outputs": [
        {
          "output_type": "display_data",
          "data": {
            "text/plain": [
              "<Figure size 1000x500 with 1 Axes>"
            ],
            "image/png": "[encoded data removed]"
          },
          "metadata": {}
        }
      ]
    },
    {
      "cell_type": "code",
      "source": [
        "\n",
        "eval_accuracies = [metrics_dict[epoch]['eval_accuracy'] for epoch in epochs]\n",
        "mean_eval_losses = [metrics_dict[epoch]['mean_eval_loss'] for epoch in epochs]\n",
        "\n",
        "best_epoch = min(metrics_dict, key=lambda x: metrics_dict[x]['mean_eval_loss'])\n",
        "best_test_accuracy = metrics_dict[best_epoch]['eval_accuracy']\n",
        "print(best_test_accuracy)\n"
      ],
      "metadata": {
        "colab": {
          "base_uri": "https://localhost:8080/"
        },
        "id": "mtoWwqW8uEms",
        "outputId": "6701d020-9eb5-4c16-84b8-77aaabc05b7a"
      },
      "execution_count": 58,
      "outputs": [
        {
          "output_type": "stream",
          "name": "stdout",
          "text": [
            "0.859000027179718\n"
          ]
        }
      ]
    }
  ]
}