{
 "cells": [
  {
   "cell_type": "markdown",
   "metadata": {},
   "source": [
    "***<h3>BAYESIAN EXERCISES</h3>***"
   ]
  },
  {
   "cell_type": "markdown",
   "metadata": {},
   "source": [
    "***EXERCISE 1***:  \n",
    "Provide a small and concise example of how bayesian statistics can be applied in your study degree. You should provide references to your answer if you don’t come up with an example on your own."
   ]
  },
  {
   "cell_type": "markdown",
   "metadata": {},
   "source": [
    "Bayesian Statistics played a profound role in the development of Natural Language Processing in the 90s. Linguists needed machinery capable of working with massive amounts of data found in the corpora they had been compiling for years, an specific situation where Bayesian Statistics were needed was in the case of the frequentist approach where some shortcomings were limiting the advance of the field. Unsupervised especially presented a challenge since statistical learning is done without target prediction examples. (Cohen, 2022)"
   ]
  },
  {
   "cell_type": "markdown",
   "metadata": {},
   "source": []
  },
  {
   "cell_type": "markdown",
   "metadata": {},
   "source": [
    "<h3>References:</h3>\n",
    "Cohen, S. (2022). <em>Bayesian analysis in natural language processing</em>. Springer Nature."
   ]
  }
 ],
 "metadata": {
  "language_info": {
   "name": "python"
  }
 },
 "nbformat": 4,
 "nbformat_minor": 2
}
