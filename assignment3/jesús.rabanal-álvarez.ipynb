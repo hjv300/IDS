{
 "cells": [
  {
   "cell_type": "markdown",
   "metadata": {},
   "source": [
    "***<h3>BAYESIAN EXERCISES<h3>***"
   ]
  },
  {
   "cell_type": "markdown",
   "metadata": {},
   "source": [
    "***EXERCISE 1***:  \n",
    "Provide a small and concise example of how bayesian statistics can be applied in your study degree. You should provide references to your answer if you don’t come up with an example on your own."
   ]
  },
  {
   "cell_type": "markdown",
   "metadata": {},
   "source": []
  }
 ],
 "metadata": {
  "language_info": {
   "name": "python"
  }
 },
 "nbformat": 4,
 "nbformat_minor": 2
}
